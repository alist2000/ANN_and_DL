{
  "nbformat": 4,
  "nbformat_minor": 0,
  "metadata": {
    "colab": {
      "provenance": []
    },
    "kernelspec": {
      "name": "python3",
      "display_name": "Python 3"
    },
    "language_info": {
      "name": "python"
    },
    "widgets": {
      "application/vnd.jupyter.widget-state+json": {
        "16f2d31fc2694934b7624d2c32bed2aa": {
          "model_module": "@jupyter-widgets/controls",
          "model_name": "HBoxModel",
          "model_module_version": "1.5.0",
          "state": {
            "_dom_classes": [],
            "_model_module": "@jupyter-widgets/controls",
            "_model_module_version": "1.5.0",
            "_model_name": "HBoxModel",
            "_view_count": null,
            "_view_module": "@jupyter-widgets/controls",
            "_view_module_version": "1.5.0",
            "_view_name": "HBoxView",
            "box_style": "",
            "children": [
              "IPY_MODEL_149f3df26aeb4a4e9b634ba786cdb540",
              "IPY_MODEL_db326114ebec419995313cfada034b40",
              "IPY_MODEL_b78de65da32545e4b091245813d012c2"
            ],
            "layout": "IPY_MODEL_55d56852b9be417885e043720f5548a2"
          }
        },
        "149f3df26aeb4a4e9b634ba786cdb540": {
          "model_module": "@jupyter-widgets/controls",
          "model_name": "HTMLModel",
          "model_module_version": "1.5.0",
          "state": {
            "_dom_classes": [],
            "_model_module": "@jupyter-widgets/controls",
            "_model_module_version": "1.5.0",
            "_model_name": "HTMLModel",
            "_view_count": null,
            "_view_module": "@jupyter-widgets/controls",
            "_view_module_version": "1.5.0",
            "_view_name": "HTMLView",
            "description": "",
            "description_tooltip": null,
            "layout": "IPY_MODEL_062b75dd31bc4b7290006fdca4c57b5b",
            "placeholder": "​",
            "style": "IPY_MODEL_3fb1fc8ff99e4997b25b95f706ef121b",
            "value": "model.safetensors: 100%"
          }
        },
        "db326114ebec419995313cfada034b40": {
          "model_module": "@jupyter-widgets/controls",
          "model_name": "FloatProgressModel",
          "model_module_version": "1.5.0",
          "state": {
            "_dom_classes": [],
            "_model_module": "@jupyter-widgets/controls",
            "_model_module_version": "1.5.0",
            "_model_name": "FloatProgressModel",
            "_view_count": null,
            "_view_module": "@jupyter-widgets/controls",
            "_view_module_version": "1.5.0",
            "_view_name": "ProgressView",
            "bar_style": "success",
            "description": "",
            "description_tooltip": null,
            "layout": "IPY_MODEL_71f60b86d3d44da4b2fa89ae7cceddf5",
            "max": 473391424,
            "min": 0,
            "orientation": "horizontal",
            "style": "IPY_MODEL_846c038462ec46f1869040652e3d5f2a",
            "value": 473391424
          }
        },
        "b78de65da32545e4b091245813d012c2": {
          "model_module": "@jupyter-widgets/controls",
          "model_name": "HTMLModel",
          "model_module_version": "1.5.0",
          "state": {
            "_dom_classes": [],
            "_model_module": "@jupyter-widgets/controls",
            "_model_module_version": "1.5.0",
            "_model_name": "HTMLModel",
            "_view_count": null,
            "_view_module": "@jupyter-widgets/controls",
            "_view_module_version": "1.5.0",
            "_view_name": "HTMLView",
            "description": "",
            "description_tooltip": null,
            "layout": "IPY_MODEL_fc180fe351f5427fb0a1464f27e80271",
            "placeholder": "​",
            "style": "IPY_MODEL_89757b61f3ad4735aeb8261f784af6ea",
            "value": " 473M/473M [00:06&lt;00:00, 58.5MB/s]"
          }
        },
        "55d56852b9be417885e043720f5548a2": {
          "model_module": "@jupyter-widgets/base",
          "model_name": "LayoutModel",
          "model_module_version": "1.2.0",
          "state": {
            "_model_module": "@jupyter-widgets/base",
            "_model_module_version": "1.2.0",
            "_model_name": "LayoutModel",
            "_view_count": null,
            "_view_module": "@jupyter-widgets/base",
            "_view_module_version": "1.2.0",
            "_view_name": "LayoutView",
            "align_content": null,
            "align_items": null,
            "align_self": null,
            "border": null,
            "bottom": null,
            "display": null,
            "flex": null,
            "flex_flow": null,
            "grid_area": null,
            "grid_auto_columns": null,
            "grid_auto_flow": null,
            "grid_auto_rows": null,
            "grid_column": null,
            "grid_gap": null,
            "grid_row": null,
            "grid_template_areas": null,
            "grid_template_columns": null,
            "grid_template_rows": null,
            "height": null,
            "justify_content": null,
            "justify_items": null,
            "left": null,
            "margin": null,
            "max_height": null,
            "max_width": null,
            "min_height": null,
            "min_width": null,
            "object_fit": null,
            "object_position": null,
            "order": null,
            "overflow": null,
            "overflow_x": null,
            "overflow_y": null,
            "padding": null,
            "right": null,
            "top": null,
            "visibility": null,
            "width": null
          }
        },
        "062b75dd31bc4b7290006fdca4c57b5b": {
          "model_module": "@jupyter-widgets/base",
          "model_name": "LayoutModel",
          "model_module_version": "1.2.0",
          "state": {
            "_model_module": "@jupyter-widgets/base",
            "_model_module_version": "1.2.0",
            "_model_name": "LayoutModel",
            "_view_count": null,
            "_view_module": "@jupyter-widgets/base",
            "_view_module_version": "1.2.0",
            "_view_name": "LayoutView",
            "align_content": null,
            "align_items": null,
            "align_self": null,
            "border": null,
            "bottom": null,
            "display": null,
            "flex": null,
            "flex_flow": null,
            "grid_area": null,
            "grid_auto_columns": null,
            "grid_auto_flow": null,
            "grid_auto_rows": null,
            "grid_column": null,
            "grid_gap": null,
            "grid_row": null,
            "grid_template_areas": null,
            "grid_template_columns": null,
            "grid_template_rows": null,
            "height": null,
            "justify_content": null,
            "justify_items": null,
            "left": null,
            "margin": null,
            "max_height": null,
            "max_width": null,
            "min_height": null,
            "min_width": null,
            "object_fit": null,
            "object_position": null,
            "order": null,
            "overflow": null,
            "overflow_x": null,
            "overflow_y": null,
            "padding": null,
            "right": null,
            "top": null,
            "visibility": null,
            "width": null
          }
        },
        "3fb1fc8ff99e4997b25b95f706ef121b": {
          "model_module": "@jupyter-widgets/controls",
          "model_name": "DescriptionStyleModel",
          "model_module_version": "1.5.0",
          "state": {
            "_model_module": "@jupyter-widgets/controls",
            "_model_module_version": "1.5.0",
            "_model_name": "DescriptionStyleModel",
            "_view_count": null,
            "_view_module": "@jupyter-widgets/base",
            "_view_module_version": "1.2.0",
            "_view_name": "StyleView",
            "description_width": ""
          }
        },
        "71f60b86d3d44da4b2fa89ae7cceddf5": {
          "model_module": "@jupyter-widgets/base",
          "model_name": "LayoutModel",
          "model_module_version": "1.2.0",
          "state": {
            "_model_module": "@jupyter-widgets/base",
            "_model_module_version": "1.2.0",
            "_model_name": "LayoutModel",
            "_view_count": null,
            "_view_module": "@jupyter-widgets/base",
            "_view_module_version": "1.2.0",
            "_view_name": "LayoutView",
            "align_content": null,
            "align_items": null,
            "align_self": null,
            "border": null,
            "bottom": null,
            "display": null,
            "flex": null,
            "flex_flow": null,
            "grid_area": null,
            "grid_auto_columns": null,
            "grid_auto_flow": null,
            "grid_auto_rows": null,
            "grid_column": null,
            "grid_gap": null,
            "grid_row": null,
            "grid_template_areas": null,
            "grid_template_columns": null,
            "grid_template_rows": null,
            "height": null,
            "justify_content": null,
            "justify_items": null,
            "left": null,
            "margin": null,
            "max_height": null,
            "max_width": null,
            "min_height": null,
            "min_width": null,
            "object_fit": null,
            "object_position": null,
            "order": null,
            "overflow": null,
            "overflow_x": null,
            "overflow_y": null,
            "padding": null,
            "right": null,
            "top": null,
            "visibility": null,
            "width": null
          }
        },
        "846c038462ec46f1869040652e3d5f2a": {
          "model_module": "@jupyter-widgets/controls",
          "model_name": "ProgressStyleModel",
          "model_module_version": "1.5.0",
          "state": {
            "_model_module": "@jupyter-widgets/controls",
            "_model_module_version": "1.5.0",
            "_model_name": "ProgressStyleModel",
            "_view_count": null,
            "_view_module": "@jupyter-widgets/base",
            "_view_module_version": "1.2.0",
            "_view_name": "StyleView",
            "bar_color": null,
            "description_width": ""
          }
        },
        "fc180fe351f5427fb0a1464f27e80271": {
          "model_module": "@jupyter-widgets/base",
          "model_name": "LayoutModel",
          "model_module_version": "1.2.0",
          "state": {
            "_model_module": "@jupyter-widgets/base",
            "_model_module_version": "1.2.0",
            "_model_name": "LayoutModel",
            "_view_count": null,
            "_view_module": "@jupyter-widgets/base",
            "_view_module_version": "1.2.0",
            "_view_name": "LayoutView",
            "align_content": null,
            "align_items": null,
            "align_self": null,
            "border": null,
            "bottom": null,
            "display": null,
            "flex": null,
            "flex_flow": null,
            "grid_area": null,
            "grid_auto_columns": null,
            "grid_auto_flow": null,
            "grid_auto_rows": null,
            "grid_column": null,
            "grid_gap": null,
            "grid_row": null,
            "grid_template_areas": null,
            "grid_template_columns": null,
            "grid_template_rows": null,
            "height": null,
            "justify_content": null,
            "justify_items": null,
            "left": null,
            "margin": null,
            "max_height": null,
            "max_width": null,
            "min_height": null,
            "min_width": null,
            "object_fit": null,
            "object_position": null,
            "order": null,
            "overflow": null,
            "overflow_x": null,
            "overflow_y": null,
            "padding": null,
            "right": null,
            "top": null,
            "visibility": null,
            "width": null
          }
        },
        "89757b61f3ad4735aeb8261f784af6ea": {
          "model_module": "@jupyter-widgets/controls",
          "model_name": "DescriptionStyleModel",
          "model_module_version": "1.5.0",
          "state": {
            "_model_module": "@jupyter-widgets/controls",
            "_model_module_version": "1.5.0",
            "_model_name": "DescriptionStyleModel",
            "_view_count": null,
            "_view_module": "@jupyter-widgets/base",
            "_view_module_version": "1.2.0",
            "_view_name": "StyleView",
            "description_width": ""
          }
        }
      }
    }
  },
  "cells": [
    {
      "cell_type": "code",
      "execution_count": 1,
      "metadata": {
        "id": "bycLEhUGlFOw",
        "colab": {
          "base_uri": "https://localhost:8080/"
        },
        "outputId": "ad576ab4-07b2-4f58-e7b1-80b5f2b6d4b1"
      },
      "outputs": [
        {
          "output_type": "stream",
          "name": "stderr",
          "text": [
            "[nltk_data] Downloading package punkt_tab to /root/nltk_data...\n",
            "[nltk_data]   Package punkt_tab is already up-to-date!\n"
          ]
        },
        {
          "output_type": "execute_result",
          "data": {
            "text/plain": [
              "True"
            ]
          },
          "metadata": {},
          "execution_count": 1
        }
      ],
      "source": [
        "import kagglehub\n",
        "import pandas as pd\n",
        "import matplotlib.pyplot as plt\n",
        "import re\n",
        "from nltk.corpus import stopwords\n",
        "from nltk.tokenize import word_tokenize\n",
        "from collections import Counter\n",
        "import string\n",
        "import nltk\n",
        "from transformers import AutoTokenizer, AutoModel\n",
        "import torch\n",
        "from sklearn.decomposition import PCA\n",
        "from sklearn.model_selection import train_test_split\n",
        "from tensorflow.keras.models import Sequential\n",
        "from tensorflow.keras.layers import Dense, LSTM, Conv1D, MaxPooling1D, Embedding, Flatten, Dropout\n",
        "from tensorflow.keras.optimizers import Adam, SGD\n",
        "from tensorflow.keras.callbacks import EarlyStopping\n",
        "from sklearn.metrics import accuracy_score, precision_score, recall_score, f1_score, roc_auc_score, confusion_matrix\n",
        "from sklearn.feature_extraction.text import CountVectorizer\n",
        "from sklearn.linear_model import LogisticRegression\n",
        "from sklearn.svm import SVC\n",
        "from sklearn.ensemble import RandomForestClassifier\n",
        "from sklearn.naive_bayes import MultinomialNB\n",
        "from sklearn.pipeline import make_pipeline\n",
        "from sklearn.preprocessing import StandardScaler\n",
        "from sklearn.ensemble import RandomForestClassifier, AdaBoostClassifier, BaggingClassifier, ExtraTreesClassifier\n",
        "from sklearn.neighbors import KNeighborsClassifier\n",
        "from sklearn.tree import DecisionTreeClassifier\n",
        "import numpy as np\n",
        "nltk.download('punkt_tab')"
      ]
    },
    {
      "cell_type": "code",
      "source": [
        "path = kagglehub.dataset_download(\"mohamad1dehqani/persian-spam-email\")\n",
        "file_path = path + '/emails.csv'"
      ],
      "metadata": {
        "id": "h002ZZDAlQwD"
      },
      "execution_count": 2,
      "outputs": []
    },
    {
      "cell_type": "markdown",
      "source": [
        "## 1.1) Dataset"
      ],
      "metadata": {
        "id": "JG5oLurJpw4h"
      }
    },
    {
      "cell_type": "code",
      "source": [
        "data = pd.read_csv(file_path)\n",
        "class_counts = data['label'].value_counts()\n",
        "plt.figure(figsize=(8, 6))\n",
        "class_counts.plot(kind='bar', color=['blue', 'red'], alpha=0.8)\n",
        "plt.title('Number of samples per class', fontsize=14)\n",
        "plt.xlabel('Classes', fontsize=12)\n",
        "plt.ylabel('Number of samples', fontsize=12)\n",
        "plt.xticks(rotation=0, fontsize=10)\n",
        "plt.yticks(fontsize=10)\n",
        "plt.grid(axis='y', linestyle='--', alpha=0.7)\n",
        "plt.show()\n"
      ],
      "metadata": {
        "colab": {
          "base_uri": "https://localhost:8080/",
          "height": 569
        },
        "id": "ViiamtPYliKY",
        "outputId": "502d3b8e-b0f7-4c9e-b745-4fac904a7cc4"
      },
      "execution_count": 3,
      "outputs": [
        {
          "output_type": "display_data",
          "data": {
            "text/plain": [
              "<Figure size 800x600 with 1 Axes>"
            ],
            "image/png": "[encoded data removed]"
          },
          "metadata": {}
        }
      ]
    },
    {
      "cell_type": "markdown",
      "source": [
        "## 1.2) Data Preprocessing"
      ],
      "metadata": {
        "id": "pv-3AocaMQem"
      }
    },
    {
      "cell_type": "code",
      "source": [
        "with open('farsi.txt', 'r', encoding='utf-8') as file:\n",
        "    persian_stopwords = set(line.strip() for line in file)\n",
        "\n",
        "def preprocess_text(text):\n",
        "    text = text.replace(\"\\n\", \" \")\n",
        "    text = re.sub(r\"http\\S+|www\\S+|https\\S+\", \"\", text)\n",
        "    text = re.sub(r'\\S+@\\S+', '', text)\n",
        "    text = re.sub(r'\\b\\d{10,}\\b', '', text)\n",
        "    text = re.sub(r'(.)\\1{3,}', r'\\1', text)\n",
        "    tokens = text.split()\n",
        "    filtered_tokens = [word for word in tokens if word not in persian_stopwords]\n",
        "    text = ' '.join(filtered_tokens)\n",
        "\n",
        "    return text\n",
        "def preprocess_text(text):\n",
        "    text = text.replace('\\n', ' ')\n",
        "    text = re.sub(r'http\\S+|www\\.\\S+', '', text)\n",
        "    text = re.sub(r'\\S+@\\S+\\.\\S+', '', text)\n",
        "    text = re.sub(r'\\b\\d{10,}\\b', '', text)\n",
        "    text = re.sub(r'(.)\\1{2,}', r'\\1', text)\n",
        "\n",
        "    words = word_tokenize(text)\n",
        "    text = ' '.join(word for word in words if word not in persian_stopwords)\n",
        "    text = text.translate(str.maketrans('', '', string.punctuation))\n",
        "\n",
        "    return text\n",
        "data['processed_text'] = data['text'].apply(preprocess_text)\n",
        "print(\"Some Processed Text\")\n",
        "print(data[['text', 'processed_text']].head(3))"
      ],
      "metadata": {
        "colab": {
          "base_uri": "https://localhost:8080/"
        },
        "id": "F-CVM4AQrH_j",
        "outputId": "03279152-f2f5-4fd2-d218-5f76e19d78a4"
      },
      "execution_count": 4,
      "outputs": [
        {
          "output_type": "stream",
          "name": "stdout",
          "text": [
            "Some Processed Text\n",
            "                                                text  \\\n",
            "0  ﻿ممنون آقا سامان.\\nمن پارسال اصلا آزاد شرکت نک...   \n",
            "1  ﻿سلام آقای کریمی\\nبالاخره آزمونارشد تموم شد من...   \n",
            "2  ﻿درود بر حاج وحیدی بنده بعنوان یک دکتری تاریخ ...   \n",
            "\n",
            "                                      processed_text  \n",
            "0  ﻿ممنون آقا سامان آزاد شرکت سراسری قبول نشدم می...  \n",
            "1  ﻿سلام آقای کریمی آزمونارشد تموم شدم یکم راهنما...  \n",
            "2  ﻿درود حاج وحیدی بنده بعنوان دکتری تاریخ دستی ت...  \n"
          ]
        }
      ]
    },
    {
      "cell_type": "markdown",
      "source": [
        "## 1.3) Display Feature"
      ],
      "metadata": {
        "id": "mPmNz7MSx01B"
      }
    },
    {
      "cell_type": "code",
      "source": [
        "data['label'] = pd.factorize(data['label'])[0]\n",
        "\n",
        "train_data, test_data = train_test_split(data, test_size=0.3, random_state=42, stratify=data['label'])\n",
        "train_data, val_data = train_test_split(train_data, test_size=0.2, random_state=42, stratify=train_data['label'])\n",
        "\n",
        "# ParsBERT\n",
        "tokenizer = AutoTokenizer.from_pretrained(\"HooshvareLab/bert-fa-zwnj-base\")\n",
        "model = AutoModel.from_pretrained(\"HooshvareLab/bert-fa-zwnj-base\")\n",
        "\n",
        "def tokenize_and_pad(text, max_length=32):\n",
        "    tokens = tokenizer(text, padding='max_length', truncation=True, max_length=max_length, return_tensors='pt')\n",
        "    return tokens\n",
        "\n",
        "train_data['tokens'] = train_data['processed_text'].apply(lambda x: tokenize_and_pad(x, max_length=32))\n",
        "val_data['tokens'] = val_data['processed_text'].apply(lambda x: tokenize_and_pad(x, max_length=32))\n",
        "test_data['tokens'] = test_data['processed_text'].apply(lambda x: tokenize_and_pad(x, max_length=32))\n",
        "\n",
        "\n",
        "def get_embeddings(tokens):\n",
        "    with torch.no_grad():\n",
        "        outputs = model(**tokens)\n",
        "    return outputs.last_hidden_state.mean(dim=1).squeeze().numpy()\n",
        "\n",
        "train_data['embeddings'] = train_data['tokens'].apply(get_embeddings)\n",
        "val_data['embeddings'] = val_data['tokens'].apply(get_embeddings)\n",
        "test_data['embeddings'] = test_data['tokens'].apply(get_embeddings)\n",
        "\n",
        "pca = PCA(n_components=120)\n",
        "embeddings = train_data['embeddings'].tolist() + val_data['embeddings'].tolist() + test_data['embeddings'].tolist()\n",
        "reduced_embeddings = pca.fit_transform(embeddings)\n",
        "train_data['reduced_embeddings'] = list(reduced_embeddings[:len(train_data)])\n",
        "val_data['reduced_embeddings'] = list(reduced_embeddings[len(train_data):len(train_data)+len(val_data)])\n",
        "test_data['reduced_embeddings'] = list(reduced_embeddings[len(train_data)+len(val_data):])"
      ],
      "metadata": {
        "colab": {
          "base_uri": "https://localhost:8080/",
          "height": 212,
          "referenced_widgets": [
            "16f2d31fc2694934b7624d2c32bed2aa",
            "149f3df26aeb4a4e9b634ba786cdb540",
            "db326114ebec419995313cfada034b40",
            "b78de65da32545e4b091245813d012c2",
            "55d56852b9be417885e043720f5548a2",
            "062b75dd31bc4b7290006fdca4c57b5b",
            "3fb1fc8ff99e4997b25b95f706ef121b",
            "71f60b86d3d44da4b2fa89ae7cceddf5",
            "846c038462ec46f1869040652e3d5f2a",
            "fc180fe351f5427fb0a1464f27e80271",
            "89757b61f3ad4735aeb8261f784af6ea"
          ]
        },
        "id": "TNzBZPHewSdK",
        "outputId": "f11200db-4788-47f5-b236-e758d1a7dc60"
      },
      "execution_count": 5,
      "outputs": [
        {
          "output_type": "stream",
          "name": "stderr",
          "text": [
            "/usr/local/lib/python3.10/dist-packages/huggingface_hub/utils/_auth.py:94: UserWarning: \n",
            "The secret `HF_TOKEN` does not exist in your Colab secrets.\n",
            "To authenticate with the Hugging Face Hub, create a token in your settings tab (https://huggingface.co/settings/tokens), set it as secret in your Google Colab and restart your session.\n",
            "You will be able to reuse this secret in all of your notebooks.\n",
            "Please note that authentication is recommended but still optional to access public models or datasets.\n",
            "  warnings.warn(\n",
            "Some weights of BertModel were not initialized from the model checkpoint at HooshvareLab/bert-fa-zwnj-base and are newly initialized: ['bert.pooler.dense.bias', 'bert.pooler.dense.weight']\n",
            "You should probably TRAIN this model on a down-stream task to be able to use it for predictions and inference.\n"
          ]
        },
        {
          "output_type": "display_data",
          "data": {
            "text/plain": [
              "model.safetensors:   0%|          | 0.00/473M [00:00<?, ?B/s]"
            ],
            "application/vnd.jupyter.widget-view+json": {
              "version_major": 2,
              "version_minor": 0,
              "model_id": "16f2d31fc2694934b7624d2c32bed2aa"
            }
          },
          "metadata": {}
        }
      ]
    },
    {
      "cell_type": "markdown",
      "source": [
        "## 1.4) Model Implementation"
      ],
      "metadata": {
        "id": "In_4NiIFylTV"
      }
    },
    {
      "cell_type": "code",
      "source": [
        "def build_model(learning_rate, optimizer):\n",
        "    model = Sequential([\n",
        "        Embedding(input_dim=10000, output_dim=120, input_length=32),\n",
        "        Conv1D(64, 3, activation='relu'),\n",
        "        MaxPooling1D(2),\n",
        "        LSTM(64, return_sequences=False),\n",
        "        Dense(64, activation='relu'),\n",
        "        Dropout(0.5),\n",
        "        Dense(1, activation='sigmoid')\n",
        "    ])\n",
        "    if optimizer == 'Adam':\n",
        "        opt = Adam(learning_rate=learning_rate)\n",
        "    elif optimizer == 'SGD':\n",
        "        opt = SGD(learning_rate=learning_rate)\n",
        "    model.compile(optimizer=opt, loss='binary_crossentropy', metrics=['accuracy'])\n",
        "    return model\n",
        "\n",
        "# جستجوی هایپرپارامترها\n",
        "batch_sizes = [8, 64]\n",
        "learning_rates = [0.001, 0.0001]\n",
        "optimizers = ['Adam', 'SGD']\n",
        "\n",
        "best_model = None\n",
        "best_val_accuracy = 0\n",
        "best_learning_rate = 0\n",
        "best_optimizer = ''\n",
        "best_batch_size = 0\n",
        "\n",
        "for batch_size in batch_sizes:\n",
        "    for learning_rate in learning_rates:\n",
        "        for optimizer in optimizers:\n",
        "            print(f\"Training with batch_size={batch_size}, learning_rate={learning_rate}, optimizer={optimizer}\")\n",
        "            model = build_model(learning_rate, optimizer)\n",
        "            early_stopping = EarlyStopping(monitor='val_accuracy', patience=3, restore_best_weights=True)\n",
        "            model.fit(\n",
        "                x=torch.tensor(train_data['reduced_embeddings'].tolist()),\n",
        "                y=train_data['label'].values,\n",
        "                validation_data=(torch.tensor(val_data['reduced_embeddings'].tolist()), val_data['label'].values),\n",
        "                batch_size=batch_size,\n",
        "                epochs=10,\n",
        "                callbacks=[early_stopping],\n",
        "                verbose=0\n",
        "            )\n",
        "            val_acc = model.evaluate(torch.tensor(val_data['reduced_embeddings'].tolist()), val_data['label'].values, verbose=0)[1]\n",
        "            if val_acc > best_val_accuracy:\n",
        "                best_val_accuracy = val_acc\n",
        "                best_model = model\n",
        "                best_learning_rate = learning_rate\n",
        "                best_optimizer = optimizer\n",
        "                best_batch_size = batch_size\n",
        "\n",
        "\n",
        "print(f\"Best hyperparameters: batch_size={best_batch_size}, learning_rate={best_learning_rate}, optimizer={best_optimizer}\")"
      ],
      "metadata": {
        "colab": {
          "base_uri": "https://localhost:8080/"
        },
        "collapsed": true,
        "id": "s9exwmibywWh",
        "outputId": "9df1f656-509f-4dba-fa3b-a8531b4fb32b"
      },
      "execution_count": 6,
      "outputs": [
        {
          "output_type": "stream",
          "name": "stdout",
          "text": [
            "Training with batch_size=8, learning_rate=0.001, optimizer=Adam\n"
          ]
        },
        {
          "output_type": "stream",
          "name": "stderr",
          "text": [
            "/usr/local/lib/python3.10/dist-packages/keras/src/layers/core/embedding.py:90: UserWarning: Argument `input_length` is deprecated. Just remove it.\n",
            "  warnings.warn(\n",
            "<ipython-input-6-dccac5c5dbc8>:36: UserWarning: Creating a tensor from a list of numpy.ndarrays is extremely slow. Please consider converting the list to a single numpy.ndarray with numpy.array() before converting to a tensor. (Triggered internally at ../torch/csrc/utils/tensor_new.cpp:278.)\n",
            "  x=torch.tensor(train_data['reduced_embeddings'].tolist()),\n"
          ]
        },
        {
          "output_type": "stream",
          "name": "stdout",
          "text": [
            "Training with batch_size=8, learning_rate=0.001, optimizer=SGD\n",
            "Training with batch_size=8, learning_rate=0.0001, optimizer=Adam\n",
            "Training with batch_size=8, learning_rate=0.0001, optimizer=SGD\n",
            "Training with batch_size=64, learning_rate=0.001, optimizer=Adam\n",
            "Training with batch_size=64, learning_rate=0.001, optimizer=SGD\n",
            "Training with batch_size=64, learning_rate=0.0001, optimizer=Adam\n",
            "Training with batch_size=64, learning_rate=0.0001, optimizer=SGD\n",
            "Best hyperparameters: batch_size=8, learning_rate=0.001, optimizer=Adam\n"
          ]
        }
      ]
    },
    {
      "cell_type": "code",
      "source": [
        "def build_cnn_lstm_model(optimizer=Adam, learning_rate=0.001):\n",
        "    model = Sequential([\n",
        "        Embedding(input_dim=10000, output_dim=120, input_length=32),\n",
        "        Conv1D(64, 3, activation='relu'),\n",
        "        MaxPooling1D(2),\n",
        "        LSTM(64, return_sequences=False),\n",
        "        Dense(64, activation='relu'),\n",
        "        Dropout(0.5),\n",
        "        Dense(1, activation='sigmoid')\n",
        "    ])\n",
        "    model.compile(optimizer=optimizer(learning_rate=learning_rate), loss='binary_crossentropy', metrics=['accuracy'])\n",
        "    return model\n",
        "\n",
        "def build_cnn_model(optimizer=Adam, learning_rate=0.001):\n",
        "    model = Sequential([\n",
        "        Embedding(input_dim=10000, output_dim=120, input_length=32),\n",
        "        Conv1D(64, 3, activation='relu'),\n",
        "        MaxPooling1D(2),\n",
        "        Flatten(),\n",
        "        Dense(64, activation='relu'),\n",
        "        Dropout(0.5),\n",
        "        Dense(1, activation='sigmoid')\n",
        "    ])\n",
        "    model.compile(optimizer=optimizer(learning_rate=learning_rate), loss='binary_crossentropy', metrics=['accuracy'])\n",
        "    return model\n",
        "\n",
        "def build_lstm_model(optimizer=Adam, learning_rate=0.001):\n",
        "    model = Sequential([\n",
        "        Embedding(input_dim=10000, output_dim=120, input_length=32),\n",
        "        LSTM(64, return_sequences=False),\n",
        "        Dense(64, activation='relu'),\n",
        "        Dropout(0.5),\n",
        "        Dense(1, activation='sigmoid')\n",
        "    ])\n",
        "    model.compile(optimizer=optimizer(learning_rate=learning_rate), loss='binary_crossentropy', metrics=['accuracy'])\n",
        "    return model\n",
        "\n",
        "\n",
        "\n",
        "cnn_model = build_cnn_model(optimizer=globals()[best_optimizer], learning_rate=best_learning_rate)\n",
        "cnn_model.fit(\n",
        "    x=np.array(train_data['reduced_embeddings'].tolist()),\n",
        "    y=train_data['label'].values,\n",
        "    validation_data=(np.array(val_data['reduced_embeddings'].tolist()), val_data['label'].values),\n",
        "    batch_size=64,\n",
        "    epochs=10,\n",
        "    verbose=1\n",
        ")\n",
        "\n",
        "lstm_model = build_lstm_model(optimizer=globals()[best_optimizer], learning_rate=best_learning_rate)\n",
        "lstm_model.fit(\n",
        "    x=np.array(train_data['reduced_embeddings'].tolist()),\n",
        "    y=train_data['label'].values,\n",
        "    validation_data=(np.array(val_data['reduced_embeddings'].tolist()), val_data['label'].values),\n",
        "    batch_size=64,\n",
        "    epochs=10,\n",
        "    verbose=1\n",
        ")\n",
        "\n",
        "cnn_lstm_model = build_cnn_lstm_model(optimizer=globals()[best_optimizer], learning_rate=best_learning_rate)\n",
        "cnn_lstm_model.fit(\n",
        "    x=np.array(train_data['reduced_embeddings'].tolist()),\n",
        "    y=train_data['label'].values,\n",
        "    validation_data=(np.array(val_data['reduced_embeddings'].tolist()), val_data['label'].values),\n",
        "    batch_size=64,\n",
        "    epochs=10,\n",
        "    verbose=1\n",
        ")\n",
        "\n",
        "\n",
        "print(\"CNN Accuracy: \", cnn_model.evaluate(np.array(test_data['reduced_embeddings'].tolist()), test_data['label'].values)[1])\n",
        "print(\"LSTM Accuracy:\", lstm_model.evaluate(np.array(test_data['reduced_embeddings'].tolist()), test_data['label'].values)[1])\n",
        "print(\"CNN-LSTM Accuracy:\", cnn_lstm_model.evaluate(np.array(test_data['reduced_embeddings'].tolist()), test_data['label'].values)[1])"
      ],
      "metadata": {
        "colab": {
          "base_uri": "https://localhost:8080/"
        },
        "id": "QFPoxZ-h2IMu",
        "outputId": "1b7f81be-54f9-4206-cf89-f9b846f145ff"
      },
      "execution_count": 7,
      "outputs": [
        {
          "output_type": "stream",
          "name": "stdout",
          "text": [
            "Epoch 1/10\n",
            "\u001b[1m9/9\u001b[0m \u001b[32m━━━━━━━━━━━━━━━━━━━━\u001b[0m\u001b[37m\u001b[0m \u001b[1m4s\u001b[0m 86ms/step - accuracy: 0.4953 - loss: 0.6982 - val_accuracy: 0.5429 - val_loss: 0.6900\n",
            "Epoch 2/10\n",
            "\u001b[1m9/9\u001b[0m \u001b[32m━━━━━━━━━━━━━━━━━━━━\u001b[0m\u001b[37m\u001b[0m \u001b[1m1s\u001b[0m 52ms/step - accuracy: 0.5738 - loss: 0.6831 - val_accuracy: 0.5143 - val_loss: 0.6807\n",
            "Epoch 3/10\n",
            "\u001b[1m9/9\u001b[0m \u001b[32m━━━━━━━━━━━━━━━━━━━━\u001b[0m\u001b[37m\u001b[0m \u001b[1m1s\u001b[0m 53ms/step - accuracy: 0.5996 - loss: 0.6681 - val_accuracy: 0.6643 - val_loss: 0.6633\n",
            "Epoch 4/10\n",
            "\u001b[1m9/9\u001b[0m \u001b[32m━━━━━━━━━━━━━━━━━━━━\u001b[0m\u001b[37m\u001b[0m \u001b[1m1s\u001b[0m 59ms/step - accuracy: 0.7234 - loss: 0.6239 - val_accuracy: 0.7071 - val_loss: 0.6323\n",
            "Epoch 5/10\n",
            "\u001b[1m9/9\u001b[0m \u001b[32m━━━━━━━━━━━━━━━━━━━━\u001b[0m\u001b[37m\u001b[0m \u001b[1m1s\u001b[0m 57ms/step - accuracy: 0.7396 - loss: 0.5561 - val_accuracy: 0.7000 - val_loss: 0.5962\n",
            "Epoch 6/10\n",
            "\u001b[1m9/9\u001b[0m \u001b[32m━━━━━━━━━━━━━━━━━━━━\u001b[0m\u001b[37m\u001b[0m \u001b[1m0s\u001b[0m 52ms/step - accuracy: 0.8210 - loss: 0.4755 - val_accuracy: 0.6786 - val_loss: 0.5825\n",
            "Epoch 7/10\n",
            "\u001b[1m9/9\u001b[0m \u001b[32m━━━━━━━━━━━━━━━━━━━━\u001b[0m\u001b[37m\u001b[0m \u001b[1m1s\u001b[0m 62ms/step - accuracy: 0.8599 - loss: 0.4051 - val_accuracy: 0.7500 - val_loss: 0.5044\n",
            "Epoch 8/10\n",
            "\u001b[1m9/9\u001b[0m \u001b[32m━━━━━━━━━━━━━━━━━━━━\u001b[0m\u001b[37m\u001b[0m \u001b[1m1s\u001b[0m 63ms/step - accuracy: 0.8752 - loss: 0.3133 - val_accuracy: 0.8071 - val_loss: 0.4380\n",
            "Epoch 9/10\n",
            "\u001b[1m9/9\u001b[0m \u001b[32m━━━━━━━━━━━━━━━━━━━━\u001b[0m\u001b[37m\u001b[0m \u001b[1m1s\u001b[0m 55ms/step - accuracy: 0.8969 - loss: 0.2683 - val_accuracy: 0.8571 - val_loss: 0.4195\n",
            "Epoch 10/10\n",
            "\u001b[1m9/9\u001b[0m \u001b[32m━━━━━━━━━━━━━━━━━━━━\u001b[0m\u001b[37m\u001b[0m \u001b[1m1s\u001b[0m 60ms/step - accuracy: 0.9036 - loss: 0.2272 - val_accuracy: 0.8500 - val_loss: 0.3783\n",
            "Epoch 1/10\n",
            "\u001b[1m9/9\u001b[0m \u001b[32m━━━━━━━━━━━━━━━━━━━━\u001b[0m\u001b[37m\u001b[0m \u001b[1m6s\u001b[0m 349ms/step - accuracy: 0.4683 - loss: 0.6946 - val_accuracy: 0.5000 - val_loss: 0.6932\n",
            "Epoch 2/10\n",
            "\u001b[1m9/9\u001b[0m \u001b[32m━━━━━━━━━━━━━━━━━━━━\u001b[0m\u001b[37m\u001b[0m \u001b[1m3s\u001b[0m 150ms/step - accuracy: 0.5573 - loss: 0.6906 - val_accuracy: 0.5000 - val_loss: 0.6934\n",
            "Epoch 3/10\n",
            "\u001b[1m9/9\u001b[0m \u001b[32m━━━━━━━━━━━━━━━━━━━━\u001b[0m\u001b[37m\u001b[0m \u001b[1m1s\u001b[0m 150ms/step - accuracy: 0.4875 - loss: 0.6973 - val_accuracy: 0.5000 - val_loss: 0.6933\n",
            "Epoch 4/10\n",
            "\u001b[1m9/9\u001b[0m \u001b[32m━━━━━━━━━━━━━━━━━━━━\u001b[0m\u001b[37m\u001b[0m \u001b[1m2s\u001b[0m 146ms/step - accuracy: 0.4454 - loss: 0.6967 - val_accuracy: 0.5000 - val_loss: 0.6932\n",
            "Epoch 5/10\n",
            "\u001b[1m9/9\u001b[0m \u001b[32m━━━━━━━━━━━━━━━━━━━━\u001b[0m\u001b[37m\u001b[0m \u001b[1m1s\u001b[0m 147ms/step - accuracy: 0.4885 - loss: 0.6937 - val_accuracy: 0.5071 - val_loss: 0.6932\n",
            "Epoch 6/10\n",
            "\u001b[1m9/9\u001b[0m \u001b[32m━━━━━━━━━━━━━━━━━━━━\u001b[0m\u001b[37m\u001b[0m \u001b[1m1s\u001b[0m 145ms/step - accuracy: 0.5094 - loss: 0.6936 - val_accuracy: 0.5000 - val_loss: 0.6931\n",
            "Epoch 7/10\n",
            "\u001b[1m9/9\u001b[0m \u001b[32m━━━━━━━━━━━━━━━━━━━━\u001b[0m\u001b[37m\u001b[0m \u001b[1m4s\u001b[0m 266ms/step - accuracy: 0.5270 - loss: 0.6927 - val_accuracy: 0.5000 - val_loss: 0.6934\n",
            "Epoch 8/10\n",
            "\u001b[1m9/9\u001b[0m \u001b[32m━━━━━━━━━━━━━━━━━━━━\u001b[0m\u001b[37m\u001b[0m \u001b[1m1s\u001b[0m 158ms/step - accuracy: 0.4907 - loss: 0.6946 - val_accuracy: 0.5000 - val_loss: 0.6931\n",
            "Epoch 9/10\n",
            "\u001b[1m9/9\u001b[0m \u001b[32m━━━━━━━━━━━━━━━━━━━━\u001b[0m\u001b[37m\u001b[0m \u001b[1m1s\u001b[0m 160ms/step - accuracy: 0.4813 - loss: 0.6943 - val_accuracy: 0.5000 - val_loss: 0.6931\n",
            "Epoch 10/10\n",
            "\u001b[1m9/9\u001b[0m \u001b[32m━━━━━━━━━━━━━━━━━━━━\u001b[0m\u001b[37m\u001b[0m \u001b[1m3s\u001b[0m 154ms/step - accuracy: 0.4606 - loss: 0.6936 - val_accuracy: 0.5000 - val_loss: 0.6932\n",
            "Epoch 1/10\n",
            "\u001b[1m9/9\u001b[0m \u001b[32m━━━━━━━━━━━━━━━━━━━━\u001b[0m\u001b[37m\u001b[0m \u001b[1m7s\u001b[0m 249ms/step - accuracy: 0.5236 - loss: 0.6938 - val_accuracy: 0.5000 - val_loss: 0.6933\n",
            "Epoch 2/10\n",
            "\u001b[1m9/9\u001b[0m \u001b[32m━━━━━━━━━━━━━━━━━━━━\u001b[0m\u001b[37m\u001b[0m \u001b[1m1s\u001b[0m 102ms/step - accuracy: 0.5109 - loss: 0.6930 - val_accuracy: 0.5143 - val_loss: 0.6932\n",
            "Epoch 3/10\n",
            "\u001b[1m9/9\u001b[0m \u001b[32m━━━━━━━━━━━━━━━━━━━━\u001b[0m\u001b[37m\u001b[0m \u001b[1m1s\u001b[0m 97ms/step - accuracy: 0.4976 - loss: 0.6939 - val_accuracy: 0.5000 - val_loss: 0.6932\n",
            "Epoch 4/10\n",
            "\u001b[1m9/9\u001b[0m \u001b[32m━━━━━━━━━━━━━━━━━━━━\u001b[0m\u001b[37m\u001b[0m \u001b[1m1s\u001b[0m 101ms/step - accuracy: 0.5144 - loss: 0.6921 - val_accuracy: 0.5000 - val_loss: 0.6935\n",
            "Epoch 5/10\n",
            "\u001b[1m9/9\u001b[0m \u001b[32m━━━━━━━━━━━━━━━━━━━━\u001b[0m\u001b[37m\u001b[0m \u001b[1m1s\u001b[0m 112ms/step - accuracy: 0.5179 - loss: 0.6925 - val_accuracy: 0.5000 - val_loss: 0.6935\n",
            "Epoch 6/10\n",
            "\u001b[1m9/9\u001b[0m \u001b[32m━━━━━━━━━━━━━━━━━━━━\u001b[0m\u001b[37m\u001b[0m \u001b[1m1s\u001b[0m 98ms/step - accuracy: 0.5405 - loss: 0.6917 - val_accuracy: 0.5000 - val_loss: 0.6933\n",
            "Epoch 7/10\n",
            "\u001b[1m9/9\u001b[0m \u001b[32m━━━━━━━━━━━━━━━━━━━━\u001b[0m\u001b[37m\u001b[0m \u001b[1m1s\u001b[0m 103ms/step - accuracy: 0.4465 - loss: 0.6945 - val_accuracy: 0.5000 - val_loss: 0.6933\n",
            "Epoch 8/10\n",
            "\u001b[1m9/9\u001b[0m \u001b[32m━━━━━━━━━━━━━━━━━━━━\u001b[0m\u001b[37m\u001b[0m \u001b[1m1s\u001b[0m 100ms/step - accuracy: 0.5015 - loss: 0.6925 - val_accuracy: 0.5000 - val_loss: 0.6933\n",
            "Epoch 9/10\n",
            "\u001b[1m9/9\u001b[0m \u001b[32m━━━━━━━━━━━━━━━━━━━━\u001b[0m\u001b[37m\u001b[0m \u001b[1m1s\u001b[0m 97ms/step - accuracy: 0.5329 - loss: 0.6930 - val_accuracy: 0.5357 - val_loss: 0.6927\n",
            "Epoch 10/10\n",
            "\u001b[1m9/9\u001b[0m \u001b[32m━━━━━━━━━━━━━━━━━━━━\u001b[0m\u001b[37m\u001b[0m \u001b[1m1s\u001b[0m 106ms/step - accuracy: 0.5512 - loss: 0.6886 - val_accuracy: 0.5714 - val_loss: 0.6819\n",
            "\u001b[1m10/10\u001b[0m \u001b[32m━━━━━━━━━━━━━━━━━━━━\u001b[0m\u001b[37m\u001b[0m \u001b[1m0s\u001b[0m 7ms/step - accuracy: 0.8529 - loss: 0.3767\n",
            "CNN Accuracy:  0.8533333539962769\n",
            "\u001b[1m10/10\u001b[0m \u001b[32m━━━━━━━━━━━━━━━━━━━━\u001b[0m\u001b[37m\u001b[0m \u001b[1m0s\u001b[0m 30ms/step - accuracy: 0.4976 - loss: 0.6932\n",
            "LSTM Accuracy: 0.5\n",
            "\u001b[1m10/10\u001b[0m \u001b[32m━━━━━━━━━━━━━━━━━━━━\u001b[0m\u001b[37m\u001b[0m \u001b[1m0s\u001b[0m 26ms/step - accuracy: 0.6721 - loss: 0.6696\n",
            "CNN-LSTM Accuracy: 0.6700000166893005\n"
          ]
        }
      ]
    },
    {
      "cell_type": "markdown",
      "source": [
        "## 1.5) Evaluate"
      ],
      "metadata": {
        "id": "mIZRPaCm9J_n"
      }
    },
    {
      "cell_type": "code",
      "source": [
        "def evaluate_model(model, x_test, y_test):\n",
        "    predictions = (model.predict(x_test) > 0.5).astype(int)\n",
        "    acc = accuracy_score(y_test, predictions)\n",
        "    prec = precision_score(y_test, predictions)\n",
        "    rec = recall_score(y_test, predictions)\n",
        "    f1 = f1_score(y_test, predictions)\n",
        "    auc = roc_auc_score(y_test, model.predict(x_test))\n",
        "    return acc, prec, rec, f1, auc\n",
        "\n",
        "x_test = np.array(test_data['reduced_embeddings'].tolist())\n",
        "y_test = test_data['label'].values\n",
        "\n",
        "cnn_metrics = evaluate_model(cnn_model, x_test, y_test)\n",
        "lstm_metrics = evaluate_model(lstm_model, x_test, y_test)\n",
        "cnn_lstm_metrics = evaluate_model(cnn_lstm_model, x_test, y_test)\n",
        "\n",
        "results = pd.DataFrame({\n",
        "    'Model': ['CNN', 'LSTM', 'CNN-LSTM'],\n",
        "    'Accuracy': [cnn_metrics[0], lstm_metrics[0], cnn_lstm_metrics[0]],\n",
        "    'Precision': [cnn_metrics[1], lstm_metrics[1], cnn_lstm_metrics[1]],\n",
        "    'Recall': [cnn_metrics[2], lstm_metrics[2], cnn_lstm_metrics[2]],\n",
        "    'F1-Score': [cnn_metrics[3], lstm_metrics[3], cnn_lstm_metrics[3]],\n",
        "    'AUC': [cnn_metrics[4], lstm_metrics[4], cnn_lstm_metrics[4]]\n",
        "})\n",
        "\n",
        "print(results)\n"
      ],
      "metadata": {
        "colab": {
          "base_uri": "https://localhost:8080/"
        },
        "id": "njDen3Jm9Pw4",
        "outputId": "1ef965dd-fe5a-4d8d-abb5-394811291115"
      },
      "execution_count": 8,
      "outputs": [
        {
          "output_type": "stream",
          "name": "stdout",
          "text": [
            "\u001b[1m10/10\u001b[0m \u001b[32m━━━━━━━━━━━━━━━━━━━━\u001b[0m\u001b[37m\u001b[0m \u001b[1m0s\u001b[0m 22ms/step\n",
            "\u001b[1m10/10\u001b[0m \u001b[32m━━━━━━━━━━━━━━━━━━━━\u001b[0m\u001b[37m\u001b[0m \u001b[1m0s\u001b[0m 13ms/step\n",
            "\u001b[1m10/10\u001b[0m \u001b[32m━━━━━━━━━━━━━━━━━━━━\u001b[0m\u001b[37m\u001b[0m \u001b[1m1s\u001b[0m 68ms/step\n",
            "\u001b[1m 4/10\u001b[0m \u001b[32m━━━━━━━━\u001b[0m\u001b[37m━━━━━━━━━━━━\u001b[0m \u001b[1m0s\u001b[0m 19ms/step"
          ]
        },
        {
          "output_type": "stream",
          "name": "stderr",
          "text": [
            "/usr/local/lib/python3.10/dist-packages/sklearn/metrics/_classification.py:1531: UndefinedMetricWarning: Precision is ill-defined and being set to 0.0 due to no predicted samples. Use `zero_division` parameter to control this behavior.\n",
            "  _warn_prf(average, modifier, f\"{metric.capitalize()} is\", len(result))\n"
          ]
        },
        {
          "output_type": "stream",
          "name": "stdout",
          "text": [
            "\u001b[1m10/10\u001b[0m \u001b[32m━━━━━━━━━━━━━━━━━━━━\u001b[0m\u001b[37m\u001b[0m \u001b[1m0s\u001b[0m 21ms/step\n",
            "\u001b[1m10/10\u001b[0m \u001b[32m━━━━━━━━━━━━━━━━━━━━\u001b[0m\u001b[37m\u001b[0m \u001b[1m1s\u001b[0m 40ms/step\n",
            "\u001b[1m10/10\u001b[0m \u001b[32m━━━━━━━━━━━━━━━━━━━━\u001b[0m\u001b[37m\u001b[0m \u001b[1m0s\u001b[0m 16ms/step\n",
            "      Model  Accuracy  Precision    Recall  F1-Score       AUC\n",
            "0       CNN  0.853333   0.920635  0.773333  0.840580  0.923067\n",
            "1      LSTM  0.500000   0.000000  0.000000  0.000000  0.600867\n",
            "2  CNN-LSTM  0.670000   0.673469  0.660000  0.666667  0.708089\n"
          ]
        }
      ]
    },
    {
      "cell_type": "markdown",
      "source": [
        "## 1.6) Bounce"
      ],
      "metadata": {
        "id": "jffkFLkE9itz"
      }
    },
    {
      "cell_type": "code",
      "source": [
        "vectorizer = CountVectorizer(max_features=1000)\n",
        "X_train = vectorizer.fit_transform(train_data['processed_text']).toarray()\n",
        "X_val = vectorizer.transform(val_data['processed_text']).toarray()\n",
        "X_test = vectorizer.transform(test_data['processed_text']).toarray()\n",
        "\n",
        "y_train = train_data['label'].values\n",
        "y_val = val_data['label'].values\n",
        "y_test = test_data['label'].values\n",
        "\n",
        "models = {\n",
        "    \"Logistic Regression\": LogisticRegression(),\n",
        "    \"SVM\": SVC(probability=True),\n",
        "    \"Random Forest\": RandomForestClassifier(),\n",
        "    \"Naive Bayes\": MultinomialNB(),\n",
        "    \"K-Nearest Neighbors\": KNeighborsClassifier(),\n",
        "    \"Decision Tree\": DecisionTreeClassifier(),\n",
        "    \"AdaBoost\": AdaBoostClassifier(),\n",
        "    \"Bagging Classifier\": BaggingClassifier(),\n",
        "    \"Extra Trees\": ExtraTreesClassifier()\n",
        "}\n",
        "\n",
        "results = []\n",
        "\n",
        "for name, model in models.items():\n",
        "    model.fit(X_train, y_train)\n",
        "    predictions = model.predict(X_test)\n",
        "    probabilities = model.predict_proba(X_test)[:, 1] if hasattr(model, 'predict_proba') else None\n",
        "\n",
        "    acc = accuracy_score(y_test, predictions)\n",
        "    prec = precision_score(y_test, predictions)\n",
        "    rec = recall_score(y_test, predictions)\n",
        "    f1 = f1_score(y_test, predictions)\n",
        "    auc = roc_auc_score(y_test, probabilities) if probabilities is not None else None\n",
        "\n",
        "    results.append({\n",
        "        'Model': name,\n",
        "        'Accuracy': acc,\n",
        "        'Precision': prec,\n",
        "        'Recall': rec,\n",
        "        'F1-Score': f1,\n",
        "        'AUC': auc\n",
        "    })\n",
        "\n",
        "results = pd.DataFrame(results)\n",
        "print(results)"
      ],
      "metadata": {
        "colab": {
          "base_uri": "https://localhost:8080/"
        },
        "id": "mpUmDLkC9rwh",
        "outputId": "4bd53b09-f60f-4847-d75d-6207e6e10bc6"
      },
      "execution_count": 11,
      "outputs": [
        {
          "output_type": "stream",
          "name": "stderr",
          "text": [
            "/usr/local/lib/python3.10/dist-packages/sklearn/ensemble/_weight_boosting.py:527: FutureWarning: The SAMME.R algorithm (the default) is deprecated and will be removed in 1.6. Use the SAMME algorithm to circumvent this warning.\n",
            "  warnings.warn(\n"
          ]
        },
        {
          "output_type": "stream",
          "name": "stdout",
          "text": [
            "                 Model  Accuracy  Precision    Recall  F1-Score       AUC\n",
            "0  Logistic Regression  0.950000   1.000000  0.900000  0.947368  0.991022\n",
            "1                  SVM  0.886667   0.975410  0.793333  0.875000  0.983867\n",
            "2        Random Forest  0.943333   0.978417  0.906667  0.941176  0.986778\n",
            "3          Naive Bayes  0.953333   0.972222  0.933333  0.952381  0.973467\n",
            "4  K-Nearest Neighbors  0.800000   1.000000  0.600000  0.750000  0.901244\n",
            "5        Decision Tree  0.920000   0.931507  0.906667  0.918919  0.920000\n",
            "6             AdaBoost  0.933333   0.985075  0.880000  0.929577  0.975422\n",
            "7   Bagging Classifier  0.923333   0.970370  0.873333  0.919298  0.978822\n",
            "8          Extra Trees  0.950000   0.985612  0.913333  0.948097  0.993178\n"
          ]
        }
      ]
    }
  ]
}